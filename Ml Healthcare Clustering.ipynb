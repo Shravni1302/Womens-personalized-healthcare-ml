{
 "cells": [
  {
   "cell_type": "markdown",
   "metadata": {},
   "source": [
    "# **Womens Personalized Healthcare Recommendation System**    \n",
    "\n",
    "# **Project Summary -**\n",
    "#### In India, personalized healthcare is essential due to diverse health needs. \n",
    "#### This project aims to segment women based on health data using Hierarchical Clustering \n",
    "#### and Gaussian Mixture Models (GMM). The system will recommend doctors based on location and specialization, \n",
    "#### providing an interactive dashboard for booking appointments and receiving SMS/email reminders. \n",
    "#### The project utilizes synthetic data with realistic Indian locations. \n",
    "\n",
    "# **GitHub Link -**\n",
    "\n",
    "\n",
    "# **Problem Statement**\n",
    "#### Healthcare access in India is often generic and lacks personalization. \n",
    "#### Women have unique health concerns that require specialized recommendations.  \n",
    "#### The goal is to develop an AI-powered system that segments women based on their health profiles \n",
    "#### and provides personalized doctor recommendations using clustering techniques. \n",
    "\n",
    "# ***Let's Begin !***\n",
    "## ***1. Know Your Data***\n",
    "### Import Libraries"
   ]
  },
  {
   "cell_type": "code",
   "execution_count": 70,
   "metadata": {},
   "outputs": [],
   "source": [
    "import pandas as pd\n",
    "import numpy as np\n",
    "import matplotlib.pyplot as plt\n",
    "import seaborn as sns\n",
    "from sklearn.preprocessing import StandardScaler, LabelEncoder\n",
    "from scipy.cluster.hierarchy import dendrogram, linkage, fcluster\n",
    "from sklearn.mixture import GaussianMixture\n",
    "from sklearn.model_selection import train_test_split\n",
    "from sklearn.ensemble import RandomForestClassifier\n",
    "from sklearn.metrics import classification_report, accuracy_score"
   ]
  },
  {
   "cell_type": "markdown",
   "metadata": {},
   "source": [
    "### Dataset Loading"
   ]
  },
  {
   "cell_type": "code",
   "execution_count": 71,
   "metadata": {},
   "outputs": [],
   "source": [
    "file_path = r'C:\\Users\\Admin\\Documents\\womens_healthcare_recommendation\\synthetic_healthcare_data.csv'\n",
    "data = pd.read_csv(file_path)"
   ]
  },
  {
   "cell_type": "markdown",
   "metadata": {},
   "source": [
    "### Dataset First View"
   ]
  },
  {
   "cell_type": "code",
   "execution_count": 72,
   "metadata": {},
   "outputs": [
    {
     "data": {
      "text/html": [
       "<div>\n",
       "<style scoped>\n",
       "    .dataframe tbody tr th:only-of-type {\n",
       "        vertical-align: middle;\n",
       "    }\n",
       "\n",
       "    .dataframe tbody tr th {\n",
       "        vertical-align: top;\n",
       "    }\n",
       "\n",
       "    .dataframe thead th {\n",
       "        text-align: right;\n",
       "    }\n",
       "</style>\n",
       "<table border=\"1\" class=\"dataframe\">\n",
       "  <thead>\n",
       "    <tr style=\"text-align: right;\">\n",
       "      <th></th>\n",
       "      <th>Patient_ID</th>\n",
       "      <th>Age</th>\n",
       "      <th>Gender</th>\n",
       "      <th>Location</th>\n",
       "      <th>Existing_Medical_Conditions</th>\n",
       "      <th>Past_Surgeries</th>\n",
       "      <th>Family_History_of_Diseases</th>\n",
       "      <th>Allergies</th>\n",
       "      <th>Medications_Currently_Taking</th>\n",
       "      <th>Dietary_Preferences</th>\n",
       "      <th>...</th>\n",
       "      <th>Pregnancy_Status</th>\n",
       "      <th>High_Risk_Pregnancy</th>\n",
       "      <th>Previous_Pregnancy_Complications</th>\n",
       "      <th>Gestational_Diabetes</th>\n",
       "      <th>Prenatal_Vitamin_Intake</th>\n",
       "      <th>Postpartum_Depression_Symptoms</th>\n",
       "      <th>Preferred_Type_of_Treatment</th>\n",
       "      <th>Therapeutic_Class_Recommended</th>\n",
       "      <th>Need_for_Specialist_Consultation</th>\n",
       "      <th>Follow_up_Required</th>\n",
       "    </tr>\n",
       "  </thead>\n",
       "  <tbody>\n",
       "    <tr>\n",
       "      <th>0</th>\n",
       "      <td>1</td>\n",
       "      <td>24</td>\n",
       "      <td>Female</td>\n",
       "      <td>Urban</td>\n",
       "      <td>NaN</td>\n",
       "      <td>NaN</td>\n",
       "      <td>NaN</td>\n",
       "      <td>Food</td>\n",
       "      <td>NaN</td>\n",
       "      <td>Vegetarian</td>\n",
       "      <td>...</td>\n",
       "      <td>Not Pregnant</td>\n",
       "      <td>No</td>\n",
       "      <td>NaN</td>\n",
       "      <td>No</td>\n",
       "      <td>No</td>\n",
       "      <td>No</td>\n",
       "      <td>Ayurvedic</td>\n",
       "      <td>Hormonal Therapy</td>\n",
       "      <td>Yes</td>\n",
       "      <td>Yes</td>\n",
       "    </tr>\n",
       "    <tr>\n",
       "      <th>1</th>\n",
       "      <td>2</td>\n",
       "      <td>37</td>\n",
       "      <td>Female</td>\n",
       "      <td>Urban</td>\n",
       "      <td>Diabetes</td>\n",
       "      <td>NaN</td>\n",
       "      <td>Heart Disease</td>\n",
       "      <td>NaN</td>\n",
       "      <td>NaN</td>\n",
       "      <td>Non-Vegetarian</td>\n",
       "      <td>...</td>\n",
       "      <td>Pregnant</td>\n",
       "      <td>No</td>\n",
       "      <td>Miscarriage</td>\n",
       "      <td>Yes</td>\n",
       "      <td>Yes</td>\n",
       "      <td>No</td>\n",
       "      <td>Homeopathy</td>\n",
       "      <td>Supplements</td>\n",
       "      <td>Yes</td>\n",
       "      <td>Yes</td>\n",
       "    </tr>\n",
       "    <tr>\n",
       "      <th>2</th>\n",
       "      <td>3</td>\n",
       "      <td>46</td>\n",
       "      <td>Female</td>\n",
       "      <td>Urban</td>\n",
       "      <td>PCOS</td>\n",
       "      <td>NaN</td>\n",
       "      <td>PCOS</td>\n",
       "      <td>NaN</td>\n",
       "      <td>Hormonal Therapy</td>\n",
       "      <td>Vegan</td>\n",
       "      <td>...</td>\n",
       "      <td>Not Pregnant</td>\n",
       "      <td>No</td>\n",
       "      <td>NaN</td>\n",
       "      <td>No</td>\n",
       "      <td>Yes</td>\n",
       "      <td>No</td>\n",
       "      <td>Allopathy</td>\n",
       "      <td>Metformin</td>\n",
       "      <td>Yes</td>\n",
       "      <td>No</td>\n",
       "    </tr>\n",
       "    <tr>\n",
       "      <th>3</th>\n",
       "      <td>4</td>\n",
       "      <td>32</td>\n",
       "      <td>Female</td>\n",
       "      <td>Urban</td>\n",
       "      <td>NaN</td>\n",
       "      <td>NaN</td>\n",
       "      <td>NaN</td>\n",
       "      <td>Medication</td>\n",
       "      <td>Multiple</td>\n",
       "      <td>Vegetarian</td>\n",
       "      <td>...</td>\n",
       "      <td>Not Pregnant</td>\n",
       "      <td>No</td>\n",
       "      <td>NaN</td>\n",
       "      <td>No</td>\n",
       "      <td>No</td>\n",
       "      <td>Yes</td>\n",
       "      <td>Allopathy</td>\n",
       "      <td>Supplements</td>\n",
       "      <td>No</td>\n",
       "      <td>Yes</td>\n",
       "    </tr>\n",
       "    <tr>\n",
       "      <th>4</th>\n",
       "      <td>5</td>\n",
       "      <td>28</td>\n",
       "      <td>Female</td>\n",
       "      <td>Rural</td>\n",
       "      <td>PCOS</td>\n",
       "      <td>NaN</td>\n",
       "      <td>NaN</td>\n",
       "      <td>NaN</td>\n",
       "      <td>Hormonal Therapy</td>\n",
       "      <td>Vegan</td>\n",
       "      <td>...</td>\n",
       "      <td>Not Pregnant</td>\n",
       "      <td>No</td>\n",
       "      <td>NaN</td>\n",
       "      <td>No</td>\n",
       "      <td>No</td>\n",
       "      <td>No</td>\n",
       "      <td>Natural Remedies</td>\n",
       "      <td>Lifestyle Changes</td>\n",
       "      <td>No</td>\n",
       "      <td>Yes</td>\n",
       "    </tr>\n",
       "  </tbody>\n",
       "</table>\n",
       "<p>5 rows × 30 columns</p>\n",
       "</div>"
      ],
      "text/plain": [
       "   Patient_ID  Age  Gender Location Existing_Medical_Conditions  \\\n",
       "0           1   24  Female    Urban                         NaN   \n",
       "1           2   37  Female    Urban                    Diabetes   \n",
       "2           3   46  Female    Urban                        PCOS   \n",
       "3           4   32  Female    Urban                         NaN   \n",
       "4           5   28  Female    Rural                        PCOS   \n",
       "\n",
       "  Past_Surgeries Family_History_of_Diseases   Allergies  \\\n",
       "0            NaN                        NaN        Food   \n",
       "1            NaN              Heart Disease         NaN   \n",
       "2            NaN                       PCOS         NaN   \n",
       "3            NaN                        NaN  Medication   \n",
       "4            NaN                        NaN         NaN   \n",
       "\n",
       "  Medications_Currently_Taking Dietary_Preferences  ... Pregnancy_Status  \\\n",
       "0                          NaN          Vegetarian  ...     Not Pregnant   \n",
       "1                          NaN      Non-Vegetarian  ...         Pregnant   \n",
       "2             Hormonal Therapy               Vegan  ...     Not Pregnant   \n",
       "3                     Multiple          Vegetarian  ...     Not Pregnant   \n",
       "4             Hormonal Therapy               Vegan  ...     Not Pregnant   \n",
       "\n",
       "  High_Risk_Pregnancy Previous_Pregnancy_Complications Gestational_Diabetes  \\\n",
       "0                  No                              NaN                   No   \n",
       "1                  No                      Miscarriage                  Yes   \n",
       "2                  No                              NaN                   No   \n",
       "3                  No                              NaN                   No   \n",
       "4                  No                              NaN                   No   \n",
       "\n",
       "  Prenatal_Vitamin_Intake Postpartum_Depression_Symptoms  \\\n",
       "0                      No                             No   \n",
       "1                     Yes                             No   \n",
       "2                     Yes                             No   \n",
       "3                      No                            Yes   \n",
       "4                      No                             No   \n",
       "\n",
       "  Preferred_Type_of_Treatment Therapeutic_Class_Recommended  \\\n",
       "0                   Ayurvedic              Hormonal Therapy   \n",
       "1                  Homeopathy                   Supplements   \n",
       "2                   Allopathy                     Metformin   \n",
       "3                   Allopathy                   Supplements   \n",
       "4            Natural Remedies             Lifestyle Changes   \n",
       "\n",
       "  Need_for_Specialist_Consultation Follow_up_Required  \n",
       "0                              Yes                Yes  \n",
       "1                              Yes                Yes  \n",
       "2                              Yes                 No  \n",
       "3                               No                Yes  \n",
       "4                               No                Yes  \n",
       "\n",
       "[5 rows x 30 columns]"
      ]
     },
     "metadata": {},
     "output_type": "display_data"
    }
   ],
   "source": [
    "display(data.head())"
   ]
  },
  {
   "cell_type": "markdown",
   "metadata": {},
   "source": [
    "### Dataset Rows & Columns count"
   ]
  },
  {
   "cell_type": "code",
   "execution_count": 73,
   "metadata": {},
   "outputs": [
    {
     "name": "stdout",
     "output_type": "stream",
     "text": [
      "Dataset contains 5000 rows and 30 columns.\n"
     ]
    }
   ],
   "source": [
    "print(f\"Dataset contains {data.shape[0]} rows and {data.shape[1]} columns.\")"
   ]
  },
  {
   "cell_type": "markdown",
   "metadata": {},
   "source": [
    "### Dataset Information"
   ]
  },
  {
   "cell_type": "code",
   "execution_count": 74,
   "metadata": {},
   "outputs": [
    {
     "name": "stdout",
     "output_type": "stream",
     "text": [
      "<class 'pandas.core.frame.DataFrame'>\n",
      "RangeIndex: 5000 entries, 0 to 4999\n",
      "Data columns (total 30 columns):\n",
      " #   Column                            Non-Null Count  Dtype \n",
      "---  ------                            --------------  ----- \n",
      " 0   Patient_ID                        5000 non-null   int64 \n",
      " 1   Age                               5000 non-null   int64 \n",
      " 2   Gender                            5000 non-null   object\n",
      " 3   Location                          5000 non-null   object\n",
      " 4   Existing_Medical_Conditions       2975 non-null   object\n",
      " 5   Past_Surgeries                    1525 non-null   object\n",
      " 6   Family_History_of_Diseases        2575 non-null   object\n",
      " 7   Allergies                         2071 non-null   object\n",
      " 8   Medications_Currently_Taking      2448 non-null   object\n",
      " 9   Dietary_Preferences               5000 non-null   object\n",
      " 10  Exercise_Routine                  5000 non-null   object\n",
      " 11  Sleep_Patterns                    5000 non-null   object\n",
      " 12  Stress_Levels                     5000 non-null   object\n",
      " 13  PCOS_Diagnosed                    5000 non-null   object\n",
      " 14  Menstrual_Cycle_Irregular         5000 non-null   object\n",
      " 15  Menstrual_Flow_Type               5000 non-null   object\n",
      " 16  Facial_Hair_Growth                5000 non-null   object\n",
      " 17  Acne_Severity                     3024 non-null   object\n",
      " 18  Weight_Gain_Issues                5000 non-null   object\n",
      " 19  Hormonal_Levels_Elevated          5000 non-null   object\n",
      " 20  Pregnancy_Status                  5000 non-null   object\n",
      " 21  High_Risk_Pregnancy               5000 non-null   object\n",
      " 22  Previous_Pregnancy_Complications  1427 non-null   object\n",
      " 23  Gestational_Diabetes              5000 non-null   object\n",
      " 24  Prenatal_Vitamin_Intake           5000 non-null   object\n",
      " 25  Postpartum_Depression_Symptoms    5000 non-null   object\n",
      " 26  Preferred_Type_of_Treatment       5000 non-null   object\n",
      " 27  Therapeutic_Class_Recommended     5000 non-null   object\n",
      " 28  Need_for_Specialist_Consultation  5000 non-null   object\n",
      " 29  Follow_up_Required                5000 non-null   object\n",
      "dtypes: int64(2), object(28)\n",
      "memory usage: 1.1+ MB\n"
     ]
    }
   ],
   "source": [
    "data.info()"
   ]
  },
  {
   "cell_type": "markdown",
   "metadata": {},
   "source": [
    "#### Duplicate Values"
   ]
  },
  {
   "cell_type": "code",
   "execution_count": 75,
   "metadata": {},
   "outputs": [
    {
     "name": "stdout",
     "output_type": "stream",
     "text": [
      "Duplicate rows count: 0\n"
     ]
    }
   ],
   "source": [
    "print(f\"Duplicate rows count: {data.duplicated().sum()}\")"
   ]
  },
  {
   "cell_type": "markdown",
   "metadata": {},
   "source": [
    "#### Missing Values/Null Values"
   ]
  },
  {
   "cell_type": "code",
   "execution_count": 76,
   "metadata": {},
   "outputs": [
    {
     "name": "stdout",
     "output_type": "stream",
     "text": [
      "Missing values count per column:\n",
      "Patient_ID                             0\n",
      "Age                                    0\n",
      "Gender                                 0\n",
      "Location                               0\n",
      "Existing_Medical_Conditions         2025\n",
      "Past_Surgeries                      3475\n",
      "Family_History_of_Diseases          2425\n",
      "Allergies                           2929\n",
      "Medications_Currently_Taking        2552\n",
      "Dietary_Preferences                    0\n",
      "Exercise_Routine                       0\n",
      "Sleep_Patterns                         0\n",
      "Stress_Levels                          0\n",
      "PCOS_Diagnosed                         0\n",
      "Menstrual_Cycle_Irregular              0\n",
      "Menstrual_Flow_Type                    0\n",
      "Facial_Hair_Growth                     0\n",
      "Acne_Severity                       1976\n",
      "Weight_Gain_Issues                     0\n",
      "Hormonal_Levels_Elevated               0\n",
      "Pregnancy_Status                       0\n",
      "High_Risk_Pregnancy                    0\n",
      "Previous_Pregnancy_Complications    3573\n",
      "Gestational_Diabetes                   0\n",
      "Prenatal_Vitamin_Intake                0\n",
      "Postpartum_Depression_Symptoms         0\n",
      "Preferred_Type_of_Treatment            0\n",
      "Therapeutic_Class_Recommended          0\n",
      "Need_for_Specialist_Consultation       0\n",
      "Follow_up_Required                     0\n",
      "dtype: int64\n"
     ]
    }
   ],
   "source": [
    "print(\"Missing values count per column:\")\n",
    "print(data.isnull().sum())"
   ]
  },
  {
   "cell_type": "markdown",
   "metadata": {},
   "source": [
    "### What do we know about the dataset?\n",
    "\n",
    "1. **Dataset Overview:**  \n",
    "   - The dataset contains **synthetic healthcare data** with information related to patient demographics, health indicators, and lifestyle choices.  \n",
    "   - The dataset consists of **several numerical and categorical features**, which are used for clustering patients into different health-based segments.\n",
    "\n",
    "2. **Dataset Structure:**  \n",
    "   - The dataset has **multiple columns** representing factors such as **Age, BMI, Blood Pressure, Cholesterol Level, and Exercise Frequency**.  \n",
    "   - There are **multiple rows** corresponding to individual patients' records.  \n",
    "   - The total number of **rows and columns** is printed in the initial exploration step.\n",
    "\n",
    "3. **Data Quality:**  \n",
    "   - **Duplicates:** The dataset was checked for duplicate records, and any such instances were counted.  \n",
    "   - **Missing Values:** The dataset was checked for missing/null values. Any missing data was **removed** to ensure a clean dataset."
   ]
  },
  {
   "cell_type": "markdown",
   "metadata": {},
   "source": [
    "## ***2. Understanding Your Variables***"
   ]
  },
  {
   "cell_type": "code",
   "execution_count": 77,
   "metadata": {},
   "outputs": [
    {
     "name": "stdout",
     "output_type": "stream",
     "text": [
      "Dataset Columns: ['Patient_ID', 'Age', 'Gender', 'Location', 'Existing_Medical_Conditions', 'Past_Surgeries', 'Family_History_of_Diseases', 'Allergies', 'Medications_Currently_Taking', 'Dietary_Preferences', 'Exercise_Routine', 'Sleep_Patterns', 'Stress_Levels', 'PCOS_Diagnosed', 'Menstrual_Cycle_Irregular', 'Menstrual_Flow_Type', 'Facial_Hair_Growth', 'Acne_Severity', 'Weight_Gain_Issues', 'Hormonal_Levels_Elevated', 'Pregnancy_Status', 'High_Risk_Pregnancy', 'Previous_Pregnancy_Complications', 'Gestational_Diabetes', 'Prenatal_Vitamin_Intake', 'Postpartum_Depression_Symptoms', 'Preferred_Type_of_Treatment', 'Therapeutic_Class_Recommended', 'Need_for_Specialist_Consultation', 'Follow_up_Required']\n",
      "Dataset Description:\n",
      "        Patient_ID          Age\n",
      "count  5000.000000  5000.000000\n",
      "mean   2500.500000    33.546800\n",
      "std    1443.520003     9.299113\n",
      "min       1.000000    18.000000\n",
      "25%    1250.750000    25.000000\n",
      "50%    2500.500000    34.000000\n",
      "75%    3750.250000    42.000000\n",
      "max    5000.000000    49.000000\n"
     ]
    }
   ],
   "source": [
    "# Dataset Columns\n",
    "print(\"Dataset Columns:\", data.columns.tolist())\n",
    "\n",
    "# Dataset Describe\n",
    "print(\"Dataset Description:\")\n",
    "print(data.describe())"
   ]
  },
  {
   "cell_type": "markdown",
   "metadata": {},
   "source": [
    "### Variables Description"
   ]
  },
  {
   "cell_type": "code",
   "execution_count": 78,
   "metadata": {},
   "outputs": [
    {
     "name": "stdout",
     "output_type": "stream",
     "text": [
      "Variables Description:\n",
      "Age: Age of the patient\n",
      "BMI: Body Mass Index\n",
      "Blood Pressure: Blood pressure measurement\n",
      "Cholesterol Level: Cholesterol levels in the blood\n",
      "Exercise Frequency: Frequency of exercise per week\n"
     ]
    }
   ],
   "source": [
    "variables_description = {\n",
    "    \"Age\": \"Age of the patient\",\n",
    "    \"BMI\": \"Body Mass Index\",\n",
    "    \"Blood Pressure\": \"Blood pressure measurement\",\n",
    "    \"Cholesterol Level\": \"Cholesterol levels in the blood\",\n",
    "    \"Exercise Frequency\": \"Frequency of exercise per week\"\n",
    "}\n",
    "print(\"Variables Description:\")\n",
    "for var, desc in variables_description.items():\n",
    "    print(f\"{var}: {desc}\")"
   ]
  },
  {
   "cell_type": "markdown",
   "metadata": {},
   "source": [
    "### Check Unique Values for each variable."
   ]
  },
  {
   "cell_type": "code",
   "execution_count": 79,
   "metadata": {},
   "outputs": [
    {
     "name": "stdout",
     "output_type": "stream",
     "text": [
      "Unique values per column:\n",
      "Patient_ID: 5000 unique values\n",
      "Age: 32 unique values\n",
      "Gender: 1 unique values\n",
      "Location: 2 unique values\n",
      "Existing_Medical_Conditions: 5 unique values\n",
      "Past_Surgeries: 3 unique values\n",
      "Family_History_of_Diseases: 4 unique values\n",
      "Allergies: 4 unique values\n",
      "Medications_Currently_Taking: 3 unique values\n",
      "Dietary_Preferences: 3 unique values\n",
      "Exercise_Routine: 3 unique values\n",
      "Sleep_Patterns: 3 unique values\n",
      "Stress_Levels: 3 unique values\n",
      "PCOS_Diagnosed: 2 unique values\n",
      "Menstrual_Cycle_Irregular: 2 unique values\n",
      "Menstrual_Flow_Type: 3 unique values\n",
      "Facial_Hair_Growth: 3 unique values\n",
      "Acne_Severity: 2 unique values\n",
      "Weight_Gain_Issues: 2 unique values\n",
      "Hormonal_Levels_Elevated: 2 unique values\n",
      "Pregnancy_Status: 2 unique values\n",
      "High_Risk_Pregnancy: 2 unique values\n",
      "Previous_Pregnancy_Complications: 3 unique values\n",
      "Gestational_Diabetes: 2 unique values\n",
      "Prenatal_Vitamin_Intake: 2 unique values\n",
      "Postpartum_Depression_Symptoms: 2 unique values\n",
      "Preferred_Type_of_Treatment: 4 unique values\n",
      "Therapeutic_Class_Recommended: 4 unique values\n",
      "Need_for_Specialist_Consultation: 2 unique values\n",
      "Follow_up_Required: 2 unique values\n"
     ]
    }
   ],
   "source": [
    "print(\"Unique values per column:\")\n",
    "for col in data.columns:\n",
    "    print(f\"{col}: {data[col].nunique()} unique values\")"
   ]
  },
  {
   "cell_type": "markdown",
   "metadata": {},
   "source": [
    "## 3. ***Data Wrangling***"
   ]
  },
  {
   "cell_type": "code",
   "execution_count": 80,
   "metadata": {},
   "outputs": [],
   "source": [
    "# Handling missing values\n",
    "data.dropna(inplace=True)"
   ]
  },
  {
   "cell_type": "markdown",
   "metadata": {},
   "source": [
    "## ***4. Feature Engineering & Data Pre-processing***"
   ]
  },
  {
   "cell_type": "code",
   "execution_count": 81,
   "metadata": {},
   "outputs": [],
   "source": [
    "# Identifying categorical and numerical features\n",
    "categorical_features = data.select_dtypes(include=['object']).columns.tolist()\n",
    "numerical_features = data.select_dtypes(exclude=['object']).columns.tolist()\n",
    "\n",
    "# Encoding categorical features\n",
    "le = LabelEncoder()\n",
    "for col in categorical_features:\n",
    "    data.loc[:, col] = le.fit_transform(data[col])  # Safe assignment with .loc\n",
    "\n",
    "# Feature Selection\n",
    "selected_features = [\n",
    "    'Age', 'Exercise_Routine', 'Sleep_Patterns', 'Stress_Levels',\n",
    "    'PCOS_Diagnosed', 'Menstrual_Cycle_Irregular', 'Facial_Hair_Growth',\n",
    "    'Acne_Severity', 'Weight_Gain_Issues', 'Hormonal_Levels_Elevated',\n",
    "    'Pregnancy_Status', 'High_Risk_Pregnancy'\n",
    "]\n",
    "X = data[selected_features]\n",
    "\n",
    "# Standardizing Features\n",
    "scaler = StandardScaler()\n",
    "X_scaled = scaler.fit_transform(X)\n",
    "\n",
    "# Splitting data for model training\n",
    "X_train, X_test, y_train, y_test = train_test_split(X_scaled, data['Need_for_Specialist_Consultation'], test_size=0.2, random_state=42)\n",
    "# Convert target variable to integer\n",
    "y_train = y_train.astype(int)\n",
    "y_test = y_test.astype(int)"
   ]
  },
  {
   "cell_type": "markdown",
   "metadata": {},
   "source": [
    "## ***5. ML Model Implementation***"
   ]
  },
  {
   "cell_type": "code",
   "execution_count": 82,
   "metadata": {},
   "outputs": [
    {
     "name": "stdout",
     "output_type": "stream",
     "text": [
      "Classification Report:\n",
      "              precision    recall  f1-score   support\n",
      "\n",
      "           0       0.00      0.00      0.00         1\n",
      "           1       0.75      1.00      0.86         3\n",
      "\n",
      "    accuracy                           0.75         4\n",
      "   macro avg       0.38      0.50      0.43         4\n",
      "weighted avg       0.56      0.75      0.64         4\n",
      "\n",
      "Accuracy Score: 0.75\n"
     ]
    },
    {
     "name": "stderr",
     "output_type": "stream",
     "text": [
      "c:\\Users\\Admin\\Documents\\womens_healthcare_recommendation\\venv\\Lib\\site-packages\\sklearn\\metrics\\_classification.py:1565: UndefinedMetricWarning: Precision is ill-defined and being set to 0.0 in labels with no predicted samples. Use `zero_division` parameter to control this behavior.\n",
      "  _warn_prf(average, modifier, f\"{metric.capitalize()} is\", len(result))\n",
      "c:\\Users\\Admin\\Documents\\womens_healthcare_recommendation\\venv\\Lib\\site-packages\\sklearn\\metrics\\_classification.py:1565: UndefinedMetricWarning: Precision is ill-defined and being set to 0.0 in labels with no predicted samples. Use `zero_division` parameter to control this behavior.\n",
      "  _warn_prf(average, modifier, f\"{metric.capitalize()} is\", len(result))\n",
      "c:\\Users\\Admin\\Documents\\womens_healthcare_recommendation\\venv\\Lib\\site-packages\\sklearn\\metrics\\_classification.py:1565: UndefinedMetricWarning: Precision is ill-defined and being set to 0.0 in labels with no predicted samples. Use `zero_division` parameter to control this behavior.\n",
      "  _warn_prf(average, modifier, f\"{metric.capitalize()} is\", len(result))\n"
     ]
    },
    {
     "data": {
      "image/png": "[encoded data removed]",
      "text/plain": [
       "<Figure size 1000x500 with 1 Axes>"
      ]
     },
     "metadata": {},
     "output_type": "display_data"
    }
   ],
   "source": [
    "# Model Training using RandomForestClassifier\n",
    "rf_model = RandomForestClassifier(n_estimators=100, random_state=42)\n",
    "rf_model.fit(X_train, y_train)\n",
    "\n",
    "# Model Evaluation\n",
    "y_pred = rf_model.predict(X_test)\n",
    "print(\"Classification Report:\")\n",
    "print(classification_report(y_test, y_pred))\n",
    "print(f\"Accuracy Score: {accuracy_score(y_test, y_pred)}\")\n",
    "\n",
    "# Hierarchical Clustering\n",
    "linked = linkage(X_scaled, method='ward')\n",
    "plt.figure(figsize=(10, 5))\n",
    "dendrogram(linked, orientation='top', distance_sort='descending', show_leaf_counts=True)\n",
    "plt.title(\"Dendrogram for Hierarchical Clustering\")\n",
    "plt.show()\n",
    "\n",
    "data['Cluster_HC'] = fcluster(linked, t=4, criterion='maxclust')\n",
    "\n",
    "gmm = GaussianMixture(n_components=4, random_state=42)\n",
    "data['Cluster_GMM'] = gmm.fit_predict(X_scaled)\n"
   ]
  },
  {
   "cell_type": "markdown",
   "metadata": {},
   "source": [
    "## ***6. Data Visualization***Data Visualization"
   ]
  },
  {
   "cell_type": "code",
   "execution_count": 83,
   "metadata": {},
   "outputs": [
    {
     "data": {
      "image/png": "[encoded data removed]",
      "text/plain": [
       "<Figure size 1000x600 with 1 Axes>"
      ]
     },
     "metadata": {},
     "output_type": "display_data"
    },
    {
     "data": {
      "image/png": "[encoded data removed]",
      "text/plain": [
       "<Figure size 1000x600 with 1 Axes>"
      ]
     },
     "metadata": {},
     "output_type": "display_data"
    },
    {
     "data": {
      "image/png": "[encoded data removed]",
      "text/plain": [
       "<Figure size 1000x600 with 1 Axes>"
      ]
     },
     "metadata": {},
     "output_type": "display_data"
    },
    {
     "name": "stdout",
     "output_type": "stream",
     "text": [
      "Feature Engineering, Data Pre-processing, and Clustering completed. Model trained and results saved at processed_healthcare_data.csv.\n"
     ]
    }
   ],
   "source": [
    "# Data Visualization\n",
    "plt.figure(figsize=(10, 6))\n",
    "sns.scatterplot(x=data['Age'], y=data['Stress_Levels'], hue=data['Cluster_GMM'], palette='viridis')\n",
    "plt.title(\"GMM Clustering - Age vs Stress Levels\")\n",
    "plt.xlabel(\"Age\")\n",
    "plt.ylabel(\"Stress Levels\")\n",
    "plt.show()\n",
    "\n",
    "plt.figure(figsize=(10, 6))\n",
    "sns.boxplot(x='Cluster_GMM', y='Hormonal_Levels_Elevated', data=data)\n",
    "plt.title(\"Hormonal Levels Across Clusters\")\n",
    "plt.xlabel(\"Cluster\")\n",
    "plt.ylabel(\"Hormonal Levels Elevated\")\n",
    "plt.show()\n",
    "\n",
    "plt.figure(figsize=(10, 6))\n",
    "sns.histplot(data, x='Exercise_Routine', hue='Cluster_GMM', kde=True)\n",
    "plt.title(\"Exercise Routine Distribution by Cluster\")\n",
    "plt.xlabel(\"Exercise Routine\")\n",
    "plt.ylabel(\"Count\")\n",
    "plt.show()\n",
    "\n",
    "# Save the processed data to a valid local directory\n",
    "output_path = 'processed_healthcare_data.csv'  # Change to an appropriate path if needed\n",
    "data.to_csv(output_path, index=False)\n",
    "\n",
    "print(f\"Feature Engineering, Data Pre-processing, and Clustering completed. Model trained and results saved at {output_path}.\")\n"
   ]
  }
 ],
 "metadata": {
  "kernelspec": {
   "display_name": "venv",
   "language": "python",
   "name": "python3"
  },
  "language_info": {
   "codemirror_mode": {
    "name": "ipython",
    "version": 3
   },
   "file_extension": ".py",
   "mimetype": "text/x-python",
   "name": "python",
   "nbconvert_exporter": "python",
   "pygments_lexer": "ipython3",
   "version": "3.13.1"
  }
 },
 "nbformat": 4,
 "nbformat_minor": 2
}
